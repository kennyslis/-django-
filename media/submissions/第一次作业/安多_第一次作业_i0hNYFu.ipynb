{
 "cells": [
  {
   "cell_type": "code",
   "execution_count": 14,
   "metadata": {},
   "outputs": [
    {
     "name": "stdout",
     "output_type": "stream",
     "text": [
      "2.4.1+cpu\n"
     ]
    }
   ],
   "source": [
    "import torch \n",
    "print(torch.__version__)"
   ]
  },
  {
   "cell_type": "markdown",
   "metadata": {},
   "source": [
    "## 作业内容"
   ]
  },
  {
   "cell_type": "markdown",
   "metadata": {},
   "source": [
    "目的：\n",
    "●熟悉python的用法\n",
    "\n",
    "●熟悉numpy (参考教程：https://www.runoob.com/numpy/numpy-tutorial.html）\n",
    "\n",
    "要求：\n",
    "\n",
    "●使用numpy 实现线性回归模型\n",
    "\n",
    "●数据要求：\n",
    "\n",
    "●教材数据\n",
    "\n",
    "●任意数据集数据\n",
    "\n",
    "●代码要求，使用向量化数据实现\n",
    "\n",
    "●文档要求：写出推导过程【必修】\n"
   ]
  },
  {
   "cell_type": "markdown",
   "metadata": {},
   "source": [
    "### 1.线性回归，使用numpy实现线性回归。\n",
    "####                                          公式推导\n",
    "\n"
   ]
  },
  {
   "cell_type": "markdown",
   "metadata": {},
   "source": [
    "训练样本: $$\\mathbf{X}_1,\\mathbf{X}_2,\\mathbf{X}_3,....,\\mathbf{X}_n$$\n",
    "$$A=(\\mathbf{X}_1,\\mathbf{X}_2,\\mathbf{X}_3,....,\\mathbf{X}_n)^T$$\n",
    "$$J(\\mathbf{w})=(y-\\mathbf{A}\\mathbf{w})^T(y-\\mathbf{A}\\mathbf{w})$$\n",
    "$$\\frac{\\partial \\mathbf{J} }{\\partial \\mathbf{w}} = \\mathbf{A}^T(\\mathbf{y} - \\mathbf{A}\\mathbf{w})=0$$\n",
    "由$$\\mathbf{A}^T(\\mathbf{y} - \\mathbf{A}\\mathbf{w})=0$$\n",
    "解得$$\\mathbf{w}=(\\mathbf{A}^T\\mathbf{A})^{-1}\\mathbf{A^T}\\mathbf{y}$$"
   ]
  },
  {
   "cell_type": "markdown",
   "metadata": {},
   "source": [
    "### 教材数据"
   ]
  },
  {
   "cell_type": "code",
   "execution_count": 3,
   "metadata": {},
   "outputs": [
    {
     "name": "stdout",
     "output_type": "stream",
     "text": [
      "(np.float64(0.994), np.float64(-0.2202))\n"
     ]
    }
   ],
   "source": [
    "import numpy as np\n",
    "def Least_method(x,y):\n",
    "    x_b=np.c_[np.ones((len(x),1)),x]\n",
    "    theta_pre=np.linalg.inv(x_b.T.dot(x_b))@(x_b.T).dot(y)\n",
    "    return np.around(theta_pre[1,0],4),np.around(theta_pre[0,0],4)\n",
    "s = np.array([10.95, 12.14, 13.22, 13.87, 15.06, 16.30, 17.01, 17.93, 19.01, 20.01, \n",
    "              21.04, 22.10, 23.17, 24.07, 25.00, 25.95, 27.10, 28.01, 29.06, 30.05]).reshape(-1,1)\n",
    "t = np.array([11.18, 10.43, 12.36, 14.15, 15.73, 16.40, 18.86, 16.13, 18.21, 18.37, \n",
    "              22.61, 19.83, 22.67, 22.70, 25.16, 25.55, 28.21, 28.12, 28.32, 29.18]).reshape(-1,1)\n",
    "print(Least_method(s,t))\n"
   ]
  },
  {
   "cell_type": "code",
   "execution_count": 7,
   "metadata": {},
   "outputs": [
    {
     "name": "stdout",
     "output_type": "stream",
     "text": [
      "[1 2 3]\n"
     ]
    }
   ],
   "source": [
    "x=np.arange(1,4).reshape(-1,1).flatten()\n",
    "print(x)"
   ]
  },
  {
   "cell_type": "code",
   "execution_count": 13,
   "metadata": {},
   "outputs": [
    {
     "name": "stdout",
     "output_type": "stream",
     "text": [
      "[[1. 1.]\n",
      " [1. 1.]\n",
      " [1. 1.]]\n"
     ]
    }
   ],
   "source": [
    "ones_x=np.ones((len(x),2))\n",
    "print(ones_x)"
   ]
  },
  {
   "cell_type": "code",
   "execution_count": 2,
   "metadata": {},
   "outputs": [
    {
     "ename": "KeyboardInterrupt",
     "evalue": "",
     "output_type": "error",
     "traceback": [
      "\u001b[1;31m---------------------------------------------------------------------------\u001b[0m",
      "\u001b[1;31mKeyboardInterrupt\u001b[0m                         Traceback (most recent call last)",
      "Cell \u001b[1;32mIn[2], line 1\u001b[0m\n\u001b[1;32m----> 1\u001b[0m \u001b[38;5;28;01mimport\u001b[39;00m \u001b[38;5;21;01mpandas\u001b[39;00m \u001b[38;5;28;01mas\u001b[39;00m \u001b[38;5;21;01mpd\u001b[39;00m\n\u001b[0;32m      2\u001b[0m \u001b[38;5;28;01mimport\u001b[39;00m \u001b[38;5;21;01mnumpy\u001b[39;00m \u001b[38;5;28;01mas\u001b[39;00m \u001b[38;5;21;01mnp\u001b[39;00m\n\u001b[0;32m      3\u001b[0m df1\u001b[38;5;241m=\u001b[39mpd\u001b[38;5;241m.\u001b[39mread_excel(\u001b[38;5;124mr\u001b[39m\u001b[38;5;124m\"\u001b[39m\u001b[38;5;124mE:\u001b[39m\u001b[38;5;124m\\\u001b[39m\u001b[38;5;124m机器学习\u001b[39m\u001b[38;5;124m\\\u001b[39m\u001b[38;5;124m人口数据.xlsx\u001b[39m\u001b[38;5;124m\"\u001b[39m)\n",
      "File \u001b[1;32md:\\tools\\miniforge\\envs\\pytorch\\lib\\site-packages\\pandas\\__init__.py:80\u001b[0m\n\u001b[0;32m     77\u001b[0m \u001b[38;5;66;03m# let init-time option registration happen\u001b[39;00m\n\u001b[0;32m     78\u001b[0m \u001b[38;5;28;01mimport\u001b[39;00m \u001b[38;5;21;01mpandas\u001b[39;00m\u001b[38;5;21;01m.\u001b[39;00m\u001b[38;5;21;01mcore\u001b[39;00m\u001b[38;5;21;01m.\u001b[39;00m\u001b[38;5;21;01mconfig_init\u001b[39;00m  \u001b[38;5;66;03m# pyright: ignore[reportUnusedImport] # noqa: F401\u001b[39;00m\n\u001b[1;32m---> 80\u001b[0m \u001b[38;5;28;01mfrom\u001b[39;00m \u001b[38;5;21;01mpandas\u001b[39;00m\u001b[38;5;21;01m.\u001b[39;00m\u001b[38;5;21;01mcore\u001b[39;00m\u001b[38;5;21;01m.\u001b[39;00m\u001b[38;5;21;01mapi\u001b[39;00m \u001b[38;5;28;01mimport\u001b[39;00m (\n\u001b[0;32m     81\u001b[0m     \u001b[38;5;66;03m# dtype\u001b[39;00m\n\u001b[0;32m     82\u001b[0m     ArrowDtype,\n\u001b[0;32m     83\u001b[0m     Int8Dtype,\n\u001b[0;32m     84\u001b[0m     Int16Dtype,\n\u001b[0;32m     85\u001b[0m     Int32Dtype,\n\u001b[0;32m     86\u001b[0m     Int64Dtype,\n\u001b[0;32m     87\u001b[0m     UInt8Dtype,\n\u001b[0;32m     88\u001b[0m     UInt16Dtype,\n\u001b[0;32m     89\u001b[0m     UInt32Dtype,\n\u001b[0;32m     90\u001b[0m     UInt64Dtype,\n\u001b[0;32m     91\u001b[0m     Float32Dtype,\n\u001b[0;32m     92\u001b[0m     Float64Dtype,\n\u001b[0;32m     93\u001b[0m     CategoricalDtype,\n\u001b[0;32m     94\u001b[0m     PeriodDtype,\n\u001b[0;32m     95\u001b[0m     IntervalDtype,\n\u001b[0;32m     96\u001b[0m     DatetimeTZDtype,\n\u001b[0;32m     97\u001b[0m     StringDtype,\n\u001b[0;32m     98\u001b[0m     BooleanDtype,\n\u001b[0;32m     99\u001b[0m     \u001b[38;5;66;03m# missing\u001b[39;00m\n\u001b[0;32m    100\u001b[0m     NA,\n\u001b[0;32m    101\u001b[0m     isna,\n\u001b[0;32m    102\u001b[0m     isnull,\n\u001b[0;32m    103\u001b[0m     notna,\n\u001b[0;32m    104\u001b[0m     notnull,\n\u001b[0;32m    105\u001b[0m     \u001b[38;5;66;03m# indexes\u001b[39;00m\n\u001b[0;32m    106\u001b[0m     Index,\n\u001b[0;32m    107\u001b[0m     CategoricalIndex,\n\u001b[0;32m    108\u001b[0m     RangeIndex,\n\u001b[0;32m    109\u001b[0m     MultiIndex,\n\u001b[0;32m    110\u001b[0m     IntervalIndex,\n\u001b[0;32m    111\u001b[0m     TimedeltaIndex,\n\u001b[0;32m    112\u001b[0m     DatetimeIndex,\n\u001b[0;32m    113\u001b[0m     PeriodIndex,\n\u001b[0;32m    114\u001b[0m     IndexSlice,\n\u001b[0;32m    115\u001b[0m     \u001b[38;5;66;03m# tseries\u001b[39;00m\n\u001b[0;32m    116\u001b[0m     NaT,\n\u001b[0;32m    117\u001b[0m     Period,\n\u001b[0;32m    118\u001b[0m     period_range,\n\u001b[0;32m    119\u001b[0m     Timedelta,\n\u001b[0;32m    120\u001b[0m     timedelta_range,\n\u001b[0;32m    121\u001b[0m     Timestamp,\n\u001b[0;32m    122\u001b[0m     date_range,\n\u001b[0;32m    123\u001b[0m     bdate_range,\n\u001b[0;32m    124\u001b[0m     Interval,\n\u001b[0;32m    125\u001b[0m     interval_range,\n\u001b[0;32m    126\u001b[0m     DateOffset,\n\u001b[0;32m    127\u001b[0m     \u001b[38;5;66;03m# conversion\u001b[39;00m\n\u001b[0;32m    128\u001b[0m     to_numeric,\n\u001b[0;32m    129\u001b[0m     to_datetime,\n\u001b[0;32m    130\u001b[0m     to_timedelta,\n\u001b[0;32m    131\u001b[0m     \u001b[38;5;66;03m# misc\u001b[39;00m\n\u001b[0;32m    132\u001b[0m     Flags,\n\u001b[0;32m    133\u001b[0m     Grouper,\n\u001b[0;32m    134\u001b[0m     factorize,\n\u001b[0;32m    135\u001b[0m     unique,\n\u001b[0;32m    136\u001b[0m     value_counts,\n\u001b[0;32m    137\u001b[0m     NamedAgg,\n\u001b[0;32m    138\u001b[0m     array,\n\u001b[0;32m    139\u001b[0m     Categorical,\n\u001b[0;32m    140\u001b[0m     set_eng_float_format,\n\u001b[0;32m    141\u001b[0m     Series,\n\u001b[0;32m    142\u001b[0m     DataFrame,\n\u001b[0;32m    143\u001b[0m )\n\u001b[0;32m    145\u001b[0m \u001b[38;5;28;01mfrom\u001b[39;00m \u001b[38;5;21;01mpandas\u001b[39;00m\u001b[38;5;21;01m.\u001b[39;00m\u001b[38;5;21;01mcore\u001b[39;00m\u001b[38;5;21;01m.\u001b[39;00m\u001b[38;5;21;01mdtypes\u001b[39;00m\u001b[38;5;21;01m.\u001b[39;00m\u001b[38;5;21;01mdtypes\u001b[39;00m \u001b[38;5;28;01mimport\u001b[39;00m SparseDtype\n\u001b[0;32m    147\u001b[0m \u001b[38;5;28;01mfrom\u001b[39;00m \u001b[38;5;21;01mpandas\u001b[39;00m\u001b[38;5;21;01m.\u001b[39;00m\u001b[38;5;21;01mtseries\u001b[39;00m\u001b[38;5;21;01m.\u001b[39;00m\u001b[38;5;21;01mapi\u001b[39;00m \u001b[38;5;28;01mimport\u001b[39;00m infer_freq\n",
      "File \u001b[1;32md:\\tools\\miniforge\\envs\\pytorch\\lib\\site-packages\\pandas\\core\\api.py:1\u001b[0m\n\u001b[1;32m----> 1\u001b[0m \u001b[38;5;28;01mfrom\u001b[39;00m \u001b[38;5;21;01mpandas\u001b[39;00m\u001b[38;5;21;01m.\u001b[39;00m\u001b[38;5;21;01m_libs\u001b[39;00m \u001b[38;5;28;01mimport\u001b[39;00m (\n\u001b[0;32m      2\u001b[0m     NaT,\n\u001b[0;32m      3\u001b[0m     Period,\n\u001b[0;32m      4\u001b[0m     Timedelta,\n\u001b[0;32m      5\u001b[0m     Timestamp,\n\u001b[0;32m      6\u001b[0m )\n\u001b[0;32m      7\u001b[0m \u001b[38;5;28;01mfrom\u001b[39;00m \u001b[38;5;21;01mpandas\u001b[39;00m\u001b[38;5;21;01m.\u001b[39;00m\u001b[38;5;21;01m_libs\u001b[39;00m\u001b[38;5;21;01m.\u001b[39;00m\u001b[38;5;21;01mmissing\u001b[39;00m \u001b[38;5;28;01mimport\u001b[39;00m NA\n\u001b[0;32m      9\u001b[0m \u001b[38;5;28;01mfrom\u001b[39;00m \u001b[38;5;21;01mpandas\u001b[39;00m\u001b[38;5;21;01m.\u001b[39;00m\u001b[38;5;21;01mcore\u001b[39;00m\u001b[38;5;21;01m.\u001b[39;00m\u001b[38;5;21;01mdtypes\u001b[39;00m\u001b[38;5;21;01m.\u001b[39;00m\u001b[38;5;21;01mdtypes\u001b[39;00m \u001b[38;5;28;01mimport\u001b[39;00m (\n\u001b[0;32m     10\u001b[0m     ArrowDtype,\n\u001b[0;32m     11\u001b[0m     CategoricalDtype,\n\u001b[1;32m   (...)\u001b[0m\n\u001b[0;32m     14\u001b[0m     PeriodDtype,\n\u001b[0;32m     15\u001b[0m )\n",
      "File \u001b[1;32md:\\tools\\miniforge\\envs\\pytorch\\lib\\site-packages\\pandas\\_libs\\__init__.py:18\u001b[0m\n\u001b[0;32m     16\u001b[0m \u001b[38;5;28;01mimport\u001b[39;00m \u001b[38;5;21;01mpandas\u001b[39;00m\u001b[38;5;21;01m.\u001b[39;00m\u001b[38;5;21;01m_libs\u001b[39;00m\u001b[38;5;21;01m.\u001b[39;00m\u001b[38;5;21;01mpandas_parser\u001b[39;00m  \u001b[38;5;66;03m# isort: skip # type: ignore[reportUnusedImport]\u001b[39;00m\n\u001b[0;32m     17\u001b[0m \u001b[38;5;28;01mimport\u001b[39;00m \u001b[38;5;21;01mpandas\u001b[39;00m\u001b[38;5;21;01m.\u001b[39;00m\u001b[38;5;21;01m_libs\u001b[39;00m\u001b[38;5;21;01m.\u001b[39;00m\u001b[38;5;21;01mpandas_datetime\u001b[39;00m  \u001b[38;5;66;03m# noqa: F401 # isort: skip # type: ignore[reportUnusedImport]\u001b[39;00m\n\u001b[1;32m---> 18\u001b[0m \u001b[38;5;28;01mfrom\u001b[39;00m \u001b[38;5;21;01mpandas\u001b[39;00m\u001b[38;5;21;01m.\u001b[39;00m\u001b[38;5;21;01m_libs\u001b[39;00m\u001b[38;5;21;01m.\u001b[39;00m\u001b[38;5;21;01minterval\u001b[39;00m \u001b[38;5;28;01mimport\u001b[39;00m Interval\n\u001b[0;32m     19\u001b[0m \u001b[38;5;28;01mfrom\u001b[39;00m \u001b[38;5;21;01mpandas\u001b[39;00m\u001b[38;5;21;01m.\u001b[39;00m\u001b[38;5;21;01m_libs\u001b[39;00m\u001b[38;5;21;01m.\u001b[39;00m\u001b[38;5;21;01mtslibs\u001b[39;00m \u001b[38;5;28;01mimport\u001b[39;00m (\n\u001b[0;32m     20\u001b[0m     NaT,\n\u001b[0;32m     21\u001b[0m     NaTType,\n\u001b[1;32m   (...)\u001b[0m\n\u001b[0;32m     26\u001b[0m     iNaT,\n\u001b[0;32m     27\u001b[0m )\n",
      "File \u001b[1;32minterval.pyx:1\u001b[0m, in \u001b[0;36minit pandas._libs.interval\u001b[1;34m()\u001b[0m\n",
      "File \u001b[1;32mhashtable.pyx:1\u001b[0m, in \u001b[0;36minit pandas._libs.hashtable\u001b[1;34m()\u001b[0m\n",
      "File \u001b[1;32mmissing.pyx:1\u001b[0m, in \u001b[0;36minit pandas._libs.missing\u001b[1;34m()\u001b[0m\n",
      "File \u001b[1;32md:\\tools\\miniforge\\envs\\pytorch\\lib\\site-packages\\pandas\\_libs\\tslibs\\__init__.py:40\u001b[0m\n\u001b[0;32m      1\u001b[0m __all__ \u001b[38;5;241m=\u001b[39m [\n\u001b[0;32m      2\u001b[0m     \u001b[38;5;124m\"\u001b[39m\u001b[38;5;124mdtypes\u001b[39m\u001b[38;5;124m\"\u001b[39m,\n\u001b[0;32m      3\u001b[0m     \u001b[38;5;124m\"\u001b[39m\u001b[38;5;124mlocalize_pydatetime\u001b[39m\u001b[38;5;124m\"\u001b[39m,\n\u001b[1;32m   (...)\u001b[0m\n\u001b[0;32m     36\u001b[0m     \u001b[38;5;124m\"\u001b[39m\u001b[38;5;124mis_supported_dtype\u001b[39m\u001b[38;5;124m\"\u001b[39m,\n\u001b[0;32m     37\u001b[0m ]\n\u001b[0;32m     39\u001b[0m \u001b[38;5;28;01mfrom\u001b[39;00m \u001b[38;5;21;01mpandas\u001b[39;00m\u001b[38;5;21;01m.\u001b[39;00m\u001b[38;5;21;01m_libs\u001b[39;00m\u001b[38;5;21;01m.\u001b[39;00m\u001b[38;5;21;01mtslibs\u001b[39;00m \u001b[38;5;28;01mimport\u001b[39;00m dtypes  \u001b[38;5;66;03m# pylint: disable=import-self\u001b[39;00m\n\u001b[1;32m---> 40\u001b[0m \u001b[38;5;28;01mfrom\u001b[39;00m \u001b[38;5;21;01mpandas\u001b[39;00m\u001b[38;5;21;01m.\u001b[39;00m\u001b[38;5;21;01m_libs\u001b[39;00m\u001b[38;5;21;01m.\u001b[39;00m\u001b[38;5;21;01mtslibs\u001b[39;00m\u001b[38;5;21;01m.\u001b[39;00m\u001b[38;5;21;01mconversion\u001b[39;00m \u001b[38;5;28;01mimport\u001b[39;00m localize_pydatetime\n\u001b[0;32m     41\u001b[0m \u001b[38;5;28;01mfrom\u001b[39;00m \u001b[38;5;21;01mpandas\u001b[39;00m\u001b[38;5;21;01m.\u001b[39;00m\u001b[38;5;21;01m_libs\u001b[39;00m\u001b[38;5;21;01m.\u001b[39;00m\u001b[38;5;21;01mtslibs\u001b[39;00m\u001b[38;5;21;01m.\u001b[39;00m\u001b[38;5;21;01mdtypes\u001b[39;00m \u001b[38;5;28;01mimport\u001b[39;00m (\n\u001b[0;32m     42\u001b[0m     Resolution,\n\u001b[0;32m     43\u001b[0m     periods_per_day,\n\u001b[0;32m     44\u001b[0m     periods_per_second,\n\u001b[0;32m     45\u001b[0m )\n\u001b[0;32m     46\u001b[0m \u001b[38;5;28;01mfrom\u001b[39;00m \u001b[38;5;21;01mpandas\u001b[39;00m\u001b[38;5;21;01m.\u001b[39;00m\u001b[38;5;21;01m_libs\u001b[39;00m\u001b[38;5;21;01m.\u001b[39;00m\u001b[38;5;21;01mtslibs\u001b[39;00m\u001b[38;5;21;01m.\u001b[39;00m\u001b[38;5;21;01mnattype\u001b[39;00m \u001b[38;5;28;01mimport\u001b[39;00m (\n\u001b[0;32m     47\u001b[0m     NaT,\n\u001b[0;32m     48\u001b[0m     NaTType,\n\u001b[0;32m     49\u001b[0m     iNaT,\n\u001b[0;32m     50\u001b[0m     nat_strings,\n\u001b[0;32m     51\u001b[0m )\n",
      "File \u001b[1;32mconversion.pyx:1\u001b[0m, in \u001b[0;36minit pandas._libs.tslibs.conversion\u001b[1;34m()\u001b[0m\n",
      "File \u001b[1;32moffsets.pyx:1\u001b[0m, in \u001b[0;36minit pandas._libs.tslibs.offsets\u001b[1;34m()\u001b[0m\n",
      "File \u001b[1;32mtimestamps.pyx:1\u001b[0m, in \u001b[0;36minit pandas._libs.tslibs.timestamps\u001b[1;34m()\u001b[0m\n",
      "File \u001b[1;32m<frozen importlib._bootstrap>:398\u001b[0m, in \u001b[0;36mparent\u001b[1;34m(self)\u001b[0m\n",
      "\u001b[1;31mKeyboardInterrupt\u001b[0m: "
     ]
    }
   ],
   "source": [
    "import pandas as pd\n",
    "import numpy as np\n",
    "df1=pd.read_excel(r\"E:\\机器学习\\人口数据.xlsx\")"
   ]
  },
  {
   "cell_type": "code",
   "execution_count": 15,
   "metadata": {},
   "outputs": [
    {
     "data": {
      "text/html": [
       "<div>\n",
       "<style scoped>\n",
       "    .dataframe tbody tr th:only-of-type {\n",
       "        vertical-align: middle;\n",
       "    }\n",
       "\n",
       "    .dataframe tbody tr th {\n",
       "        vertical-align: top;\n",
       "    }\n",
       "\n",
       "    .dataframe thead th {\n",
       "        text-align: right;\n",
       "    }\n",
       "</style>\n",
       "<table border=\"1\" class=\"dataframe\">\n",
       "  <thead>\n",
       "    <tr style=\"text-align: right;\">\n",
       "      <th></th>\n",
       "      <th>年份</th>\n",
       "      <th>人口数量</th>\n",
       "    </tr>\n",
       "  </thead>\n",
       "  <tbody>\n",
       "    <tr>\n",
       "      <th>0</th>\n",
       "      <td>1949年</td>\n",
       "      <td>54167</td>\n",
       "    </tr>\n",
       "    <tr>\n",
       "      <th>1</th>\n",
       "      <td>1950年</td>\n",
       "      <td>55196</td>\n",
       "    </tr>\n",
       "    <tr>\n",
       "      <th>2</th>\n",
       "      <td>1951年</td>\n",
       "      <td>56300</td>\n",
       "    </tr>\n",
       "    <tr>\n",
       "      <th>3</th>\n",
       "      <td>1952年</td>\n",
       "      <td>57482</td>\n",
       "    </tr>\n",
       "    <tr>\n",
       "      <th>4</th>\n",
       "      <td>1953年</td>\n",
       "      <td>58796</td>\n",
       "    </tr>\n",
       "  </tbody>\n",
       "</table>\n",
       "</div>"
      ],
      "text/plain": [
       "      年份   人口数量\n",
       "0  1949年  54167\n",
       "1  1950年  55196\n",
       "2  1951年  56300\n",
       "3  1952年  57482\n",
       "4  1953年  58796"
      ]
     },
     "execution_count": 15,
     "metadata": {},
     "output_type": "execute_result"
    }
   ],
   "source": [
    "df1.head()"
   ]
  },
  {
   "cell_type": "code",
   "execution_count": 25,
   "metadata": {},
   "outputs": [
    {
     "data": {
      "text/plain": [
       "array([[1949],\n",
       "       [1950],\n",
       "       [1951]])"
      ]
     },
     "execution_count": 25,
     "metadata": {},
     "output_type": "execute_result"
    }
   ],
   "source": [
    "x=np.array([ int(i[:4])for i in df1['年份']]).reshape(-1,1)\n"
   ]
  },
  {
   "cell_type": "code",
   "execution_count": 26,
   "metadata": {},
   "outputs": [
    {
     "name": "stdout",
     "output_type": "stream",
     "text": [
      "71\n"
     ]
    },
    {
     "data": {
      "text/plain": [
       "array([[ 54167],\n",
       "       [ 55196],\n",
       "       [ 56300],\n",
       "       [ 57482],\n",
       "       [ 58796],\n",
       "       [ 60266],\n",
       "       [ 61465],\n",
       "       [ 62828],\n",
       "       [ 64653],\n",
       "       [ 65994],\n",
       "       [ 67207],\n",
       "       [ 66207],\n",
       "       [ 65859],\n",
       "       [ 67296],\n",
       "       [ 69172],\n",
       "       [ 70499],\n",
       "       [ 72538],\n",
       "       [ 74542],\n",
       "       [ 76368],\n",
       "       [ 78534],\n",
       "       [ 80671],\n",
       "       [ 82992],\n",
       "       [ 85229],\n",
       "       [ 87177],\n",
       "       [ 89211],\n",
       "       [ 90859],\n",
       "       [ 92420],\n",
       "       [ 93717],\n",
       "       [ 94974],\n",
       "       [ 96259],\n",
       "       [ 97542],\n",
       "       [ 98705],\n",
       "       [100072],\n",
       "       [101654],\n",
       "       [103008],\n",
       "       [104357],\n",
       "       [105851],\n",
       "       [107507],\n",
       "       [109300],\n",
       "       [111026],\n",
       "       [112704],\n",
       "       [114333],\n",
       "       [115823],\n",
       "       [117171],\n",
       "       [118517],\n",
       "       [119850],\n",
       "       [121121],\n",
       "       [122389],\n",
       "       [123626],\n",
       "       [124761],\n",
       "       [125786],\n",
       "       [126743],\n",
       "       [127627],\n",
       "       [128453],\n",
       "       [129227],\n",
       "       [129988],\n",
       "       [130756],\n",
       "       [131448],\n",
       "       [132129],\n",
       "       [132802],\n",
       "       [133450],\n",
       "       [134091],\n",
       "       [134735],\n",
       "       [135404],\n",
       "       [136072],\n",
       "       [136782],\n",
       "       [137462],\n",
       "       [138271],\n",
       "       [139008],\n",
       "       [139538],\n",
       "       [140005]])"
      ]
     },
     "execution_count": 26,
     "metadata": {},
     "output_type": "execute_result"
    }
   ],
   "source": [
    "y=df1['人口数量'].values.reshape(-1,1)\n",
    "print(len(y))\n",
    "y"
   ]
  },
  {
   "cell_type": "markdown",
   "metadata": {},
   "source": [
    "## 代码封装\n"
   ]
  },
  {
   "cell_type": "code",
   "execution_count": 1,
   "metadata": {},
   "outputs": [
    {
     "ename": "NameError",
     "evalue": "name 'x' is not defined",
     "output_type": "error",
     "traceback": [
      "\u001b[1;31m---------------------------------------------------------------------------\u001b[0m",
      "\u001b[1;31mNameError\u001b[0m                                 Traceback (most recent call last)",
      "Cell \u001b[1;32mIn[1], line 6\u001b[0m\n\u001b[0;32m      3\u001b[0m     theta_pre\u001b[38;5;241m=\u001b[39mnp\u001b[38;5;241m.\u001b[39mlinalg\u001b[38;5;241m.\u001b[39minv(x_b\u001b[38;5;241m.\u001b[39mT\u001b[38;5;241m.\u001b[39mdot(x_b))\u001b[38;5;241m@\u001b[39m(x_b\u001b[38;5;241m.\u001b[39mT)\u001b[38;5;241m.\u001b[39mdot(y)\n\u001b[0;32m      4\u001b[0m     \u001b[38;5;28;01mreturn\u001b[39;00m np\u001b[38;5;241m.\u001b[39maround(theta_pre[\u001b[38;5;241m1\u001b[39m,\u001b[38;5;241m0\u001b[39m],\u001b[38;5;241m4\u001b[39m),np\u001b[38;5;241m.\u001b[39maround(theta_pre[\u001b[38;5;241m0\u001b[39m,\u001b[38;5;241m0\u001b[39m],\u001b[38;5;241m4\u001b[39m)\n\u001b[1;32m----> 6\u001b[0m \u001b[38;5;28mprint\u001b[39m(Least_method(\u001b[43mx\u001b[49m,y))\n",
      "\u001b[1;31mNameError\u001b[0m: name 'x' is not defined"
     ]
    }
   ],
   "source": [
    "def Least_method(x,y):\n",
    "    x_b=np.c_[np.ones((len(x),1)),x]\n",
    "    theta_pre=np.linalg.inv(x_b.T.dot(x_b))@(x_b.T).dot(y)\n",
    "    return np.around(theta_pre[1,0],4),np.around(theta_pre[0,0],4)\n",
    "\n",
    "print(Least_method(x,y))"
   ]
  },
  {
   "cell_type": "markdown",
   "metadata": {},
   "source": [
    "## 运行结果"
   ]
  },
  {
   "cell_type": "code",
   "execution_count": 28,
   "metadata": {},
   "outputs": [
    {
     "name": "stdout",
     "output_type": "stream",
     "text": [
      "[[-2.54690325e+06]\n",
      " [ 1.33503310e+03]]\n"
     ]
    },
    {
     "data": {
      "text/plain": [
       "<matplotlib.legend.Legend at 0x1f1a91abf10>"
      ]
     },
     "execution_count": 28,
     "metadata": {},
     "output_type": "execute_result"
    },
    {
     "data": {
      "image/png": "[encoded data removed]",
      "text/plain": [
       "<Figure size 640x480 with 1 Axes>"
      ]
     },
     "metadata": {},
     "output_type": "display_data"
    }
   ],
   "source": [
    "import matplotlib.pyplot as plt\n",
    "import matplotlib\n",
    "x_b=np.c_[np.ones((71,1)),x]\n",
    "theta_pre=np.linalg.inv(x_b.T.dot(x_b)).dot(x_b.T).dot(y)\n",
    "print(theta_pre)\n",
    "beta=theta_pre[1,0]\n",
    "a=theta_pre[0,0]\n",
    "matplotlib.rcParams['font.sans-serif']=['SimHei']\n",
    "plt.scatter(x, y, color=\"blue\", label=\"数据\")\n",
    "plt.plot(x, x*beta+a, color=\"red\", label=\"拟合直线\")\n",
    "plt.xlabel(\"年份\")\n",
    "plt.ylabel(\"人口数量\")\n",
    "plt.title(\"拟合直线\")\n",
    "plt.legend()"
   ]
  },
  {
   "cell_type": "markdown",
   "metadata": {},
   "source": [
    "## 实验总结"
   ]
  },
  {
   "cell_type": "markdown",
   "metadata": {},
   "source": [
    "在本次实验中，我们使用 Python 的 pandas 和 numpy 库对人口数据进行了线性回归分析，并通过可视化展示了拟合结果。熟悉了numpy的用法，怎么去构建array数组以及怎么去进行转制，有.T,reshape等操作。\n",
    "通过本次实验，我们不仅实现了线性回归模型，还对 NumPy 的基本操作有了更深入的理解。这些技能为后续的数据处理和分析奠定了坚实的基础。\n",
    "深入学习 NumPy 的高级功能，如广播、掩码数组等，以处理更复杂的数据计算。\n",
    "结合 Pandas 和 NumPy，进行更高效的数据处理。例如，使用 Pandas 的 DataFrame 结合 NumPy 数组进行批量运算。\n",
    "探索其他机器学习算法，如逻辑回归、决策树等，进一步提高对数据建模的理解。"
   ]
  },
  {
   "cell_type": "markdown",
   "metadata": {},
   "source": [
    "## 附录"
   ]
  },
  {
   "cell_type": "markdown",
   "metadata": {},
   "source": [
    "![](./推导公式.png)"
   ]
  },
  {
   "cell_type": "code",
   "execution_count": 8,
   "metadata": {},
   "outputs": [
    {
     "data": {
      "text/plain": [
       "-0.9709505944546686"
      ]
     },
     "execution_count": 8,
     "metadata": {},
     "output_type": "execute_result"
    }
   ],
   "source": [
    "from math import *\n",
    "(((3/5)*log(3/5,2))+((2/5)*log(2/5,2)))\n"
   ]
  },
  {
   "cell_type": "code",
   "execution_count": 9,
   "metadata": {},
   "outputs": [
    {
     "data": {
      "text/plain": [
       "0.9486832980505138"
      ]
     },
     "execution_count": 9,
     "metadata": {},
     "output_type": "execute_result"
    }
   ],
   "source": [
    "log(3,5)\n",
    "sqrt(0.9)"
   ]
  }
 ],
 "metadata": {
  "kernelspec": {
   "display_name": "pytorch",
   "language": "python",
   "name": "python3"
  },
  "language_info": {
   "codemirror_mode": {
    "name": "ipython",
    "version": 3
   },
   "file_extension": ".py",
   "mimetype": "text/x-python",
   "name": "python",
   "nbconvert_exporter": "python",
   "pygments_lexer": "ipython3",
   "version": "3.9.20"
  }
 },
 "nbformat": 4,
 "nbformat_minor": 2
}
