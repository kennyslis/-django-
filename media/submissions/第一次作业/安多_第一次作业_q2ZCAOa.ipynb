from nbconvert import HTMLExporter
import nbformat

def convert_ipynb_to_html(ipynb_file, output_html):
    # 读取 .ipynb 文件
    with open(ipynb_file, 'r', encoding='utf-8') as f:
        notebook = nbformat.read(f, as_version=4)

    # 初始化 HTMLExporter
    html_exporter = HTMLExporter()
    html_exporter.exclude_input = False  # 是否排除代码块，设置为 True 不输出代码
    html_exporter.exclude_output = False  # 是否排除运行结果

    # 转换为 HTML
    body, _ = html_exporter.from_notebook_node(notebook)

    # 写入 HTML 文件
    with open(output_html, 'w', encoding='utf-8') as f:
        f.write(body)

# 示例：将 "example.ipynb" 转换为 "example.html"
convert_ipynb_to_html('work_1.ipynb', 'work_1.html')
