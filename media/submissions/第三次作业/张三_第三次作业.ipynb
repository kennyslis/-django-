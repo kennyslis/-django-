{
 "cells": [
  {
   "cell_type": "markdown",
   "metadata": {},
   "source": [
    "## 作业内容\n",
    "基本要求：\n",
    "●使用sklearn 的 MLP 实现神经网络\n",
    "\n",
    "\n",
    "-数据要求：\n",
    "\n",
    "-回归问题：\n",
    "\n",
    "-选取任意标准数据集测试\n",
    "\n",
    "提高练习：\n",
    "\n",
    "●尝试使用pytorch实现梯度下降（先手动update，再使用torch.optim模块）\n",
    "\n",
    "●(有独显者)尝试使用 cuda ，对比GPU与CPU的运行效率\n",
    "\n",
    "●尝试手动实现梯度下降（难）\n"
   ]
  },
  {
   "cell_type": "code",
   "execution_count": 1,
   "metadata": {},
   "outputs": [
    {
     "data": {
      "text/html": [
       "<div>\n",
       "<style scoped>\n",
       "    .dataframe tbody tr th:only-of-type {\n",
       "        vertical-align: middle;\n",
       "    }\n",
       "\n",
       "    .dataframe tbody tr th {\n",
       "        vertical-align: top;\n",
       "    }\n",
       "\n",
       "    .dataframe thead th {\n",
       "        text-align: right;\n",
       "    }\n",
       "</style>\n",
       "<table border=\"1\" class=\"dataframe\">\n",
       "  <thead>\n",
       "    <tr style=\"text-align: right;\">\n",
       "      <th></th>\n",
       "      <th>S_L</th>\n",
       "      <th>S_W</th>\n",
       "      <th>P_L</th>\n",
       "      <th>P_W</th>\n",
       "      <th>response</th>\n",
       "    </tr>\n",
       "  </thead>\n",
       "  <tbody>\n",
       "    <tr>\n",
       "      <th>0</th>\n",
       "      <td>5.1</td>\n",
       "      <td>3.5</td>\n",
       "      <td>1.4</td>\n",
       "      <td>0.2</td>\n",
       "      <td>0</td>\n",
       "    </tr>\n",
       "    <tr>\n",
       "      <th>1</th>\n",
       "      <td>4.9</td>\n",
       "      <td>3.0</td>\n",
       "      <td>1.4</td>\n",
       "      <td>0.2</td>\n",
       "      <td>0</td>\n",
       "    </tr>\n",
       "    <tr>\n",
       "      <th>2</th>\n",
       "      <td>4.7</td>\n",
       "      <td>3.2</td>\n",
       "      <td>1.3</td>\n",
       "      <td>0.2</td>\n",
       "      <td>0</td>\n",
       "    </tr>\n",
       "    <tr>\n",
       "      <th>3</th>\n",
       "      <td>4.6</td>\n",
       "      <td>3.1</td>\n",
       "      <td>1.5</td>\n",
       "      <td>0.2</td>\n",
       "      <td>0</td>\n",
       "    </tr>\n",
       "    <tr>\n",
       "      <th>4</th>\n",
       "      <td>5.0</td>\n",
       "      <td>3.6</td>\n",
       "      <td>1.4</td>\n",
       "      <td>0.2</td>\n",
       "      <td>0</td>\n",
       "    </tr>\n",
       "  </tbody>\n",
       "</table>\n",
       "</div>"
      ],
      "text/plain": [
       "   S_L  S_W  P_L  P_W  response\n",
       "0  5.1  3.5  1.4  0.2         0\n",
       "1  4.9  3.0  1.4  0.2         0\n",
       "2  4.7  3.2  1.3  0.2         0\n",
       "3  4.6  3.1  1.5  0.2         0\n",
       "4  5.0  3.6  1.4  0.2         0"
      ]
     },
     "execution_count": 1,
     "metadata": {},
     "output_type": "execute_result"
    }
   ],
   "source": [
    "import pandas as pd\n",
    "df1=pd.read_excel(r\"C:\\Users\\lenovo\\Downloads\\Data1-train.xlsx\",header=0)\n",
    "df1.head()"
   ]
  },
  {
   "cell_type": "markdown",
   "metadata": {},
   "source": [
    "### 分类说明: 山鸢尾:0，变色鸢尾:1"
   ]
  },
  {
   "cell_type": "code",
   "execution_count": 2,
   "metadata": {},
   "outputs": [
    {
     "name": "stdout",
     "output_type": "stream",
     "text": [
      "[[5.1 3.5 1.4 0.2]\n",
      " [4.9 3.  1.4 0.2]\n",
      " [4.7 3.2 1.3 0.2]\n",
      " [4.6 3.1 1.5 0.2]\n",
      " [5.  3.6 1.4 0.2]\n",
      " [5.4 3.9 1.7 0.4]\n",
      " [4.6 3.4 1.4 0.3]\n",
      " [5.  3.4 1.5 0.2]\n",
      " [4.4 2.9 1.4 0.2]\n",
      " [4.9 3.1 1.5 0.1]\n",
      " [5.4 3.7 1.5 0.2]\n",
      " [4.8 3.4 1.6 0.2]\n",
      " [4.8 3.  1.4 0.1]\n",
      " [4.3 3.  1.1 0.1]\n",
      " [5.8 4.  1.2 0.2]\n",
      " [5.7 4.4 1.5 0.4]\n",
      " [5.4 3.9 1.3 0.4]\n",
      " [5.1 3.5 1.4 0.3]\n",
      " [5.7 3.8 1.7 0.3]\n",
      " [5.1 3.8 1.5 0.3]\n",
      " [5.4 3.4 1.7 0.2]\n",
      " [5.1 3.7 1.5 0.4]\n",
      " [4.6 3.6 1.  0.2]\n",
      " [5.1 3.3 1.7 0.5]\n",
      " [4.8 3.4 1.9 0.2]\n",
      " [5.  3.  1.6 0.2]\n",
      " [5.  3.4 1.6 0.4]\n",
      " [5.2 3.5 1.5 0.2]\n",
      " [5.2 3.4 1.4 0.2]\n",
      " [4.7 3.2 1.6 0.2]\n",
      " [4.8 3.1 1.6 0.2]\n",
      " [5.4 3.4 1.5 0.4]\n",
      " [5.2 4.1 1.5 0.1]\n",
      " [4.4 3.  1.3 0.2]\n",
      " [5.1 3.4 1.5 0.2]\n",
      " [5.  3.5 1.3 0.3]\n",
      " [4.5 2.3 1.3 0.3]\n",
      " [4.4 3.2 1.3 0.2]\n",
      " [5.  3.5 1.6 0.6]\n",
      " [5.1 3.8 1.9 0.4]\n",
      " [4.8 3.  1.4 0.3]\n",
      " [5.1 3.8 1.6 0.2]\n",
      " [4.6 3.2 1.4 0.2]\n",
      " [5.3 3.7 1.5 0.2]\n",
      " [5.  3.3 1.4 0.2]\n",
      " [7.  3.2 4.7 1.4]\n",
      " [6.4 3.2 4.5 1.5]\n",
      " [6.9 3.1 4.9 1.5]\n",
      " [5.5 2.3 4.  1.3]\n",
      " [6.5 2.8 4.6 1.5]\n",
      " [5.7 2.8 4.5 1.3]\n",
      " [6.3 3.3 4.7 1.6]\n",
      " [4.9 2.4 3.3 1. ]\n",
      " [6.6 2.9 4.6 1.3]\n",
      " [5.2 2.7 3.9 1.4]\n",
      " [5.  2.  3.5 1. ]\n",
      " [5.9 3.  4.2 1.5]\n",
      " [6.  2.2 4.  1. ]\n",
      " [6.1 2.9 4.7 1.4]\n",
      " [5.6 2.9 3.6 1.3]\n",
      " [6.7 3.1 4.4 1.4]\n",
      " [6.1 2.8 4.  1.3]\n",
      " [6.3 2.5 4.9 1.5]\n",
      " [6.1 2.8 4.7 1.2]\n",
      " [6.4 2.9 4.3 1.3]\n",
      " [6.6 3.  4.4 1.4]\n",
      " [6.8 2.8 4.8 1.4]\n",
      " [6.7 3.  5.  1.7]\n",
      " [6.  2.9 4.5 1.5]\n",
      " [5.7 2.6 3.5 1. ]\n",
      " [5.5 2.4 3.8 1.1]\n",
      " [5.5 2.4 3.7 1. ]\n",
      " [5.8 2.7 3.9 1.2]\n",
      " [6.  2.7 5.1 1.6]\n",
      " [5.4 3.  4.5 1.5]\n",
      " [6.  3.4 4.5 1.6]\n",
      " [6.7 3.1 4.7 1.5]\n",
      " [6.3 2.3 4.4 1.3]\n",
      " [5.6 3.  4.1 1.3]\n",
      " [5.5 2.5 4.  1.3]\n",
      " [5.5 2.6 4.4 1.2]\n",
      " [6.1 3.  4.6 1.4]\n",
      " [5.8 2.6 4.  1.2]\n",
      " [5.  2.3 3.3 1. ]\n",
      " [5.6 2.7 4.2 1.3]\n",
      " [5.7 3.  4.2 1.2]\n",
      " [5.7 2.9 4.2 1.3]\n",
      " [6.2 2.9 4.3 1.3]\n",
      " [5.1 2.5 3.  1.1]\n",
      " [5.7 2.8 4.1 1.3]]\n"
     ]
    }
   ],
   "source": [
    "import numpy as np\n",
    "from sklearn.neural_network import MLPClassifier\n",
    "from sklearn.model_selection import train_test_split\n",
    "from sklearn.neural_network import MLPRegressor\n",
    "from sklearn.metrics import mean_squared_error\n",
    "from sklearn.metrics import classification_report\n",
    "X = df1[['S_L', 'S_W', 'P_L', 'P_W']].values.astype(float)  \n",
    "y = df1['response'].values.astype(float) \n",
    "print(X)\n"
   ]
  },
  {
   "cell_type": "markdown",
   "metadata": {},
   "source": [
    "## 代码封装"
   ]
  },
  {
   "cell_type": "code",
   "execution_count": null,
   "metadata": {},
   "outputs": [],
   "source": [
    "def MLP_regressor(X,y):\n",
    "    X_train, X_test, y_train, y_test = train_test_split(X, y, test_size=0.2, random_state=42)\n",
    "    mlp = MLPClassifier(hidden_layer_sizes=(1), max_iter=1000, random_state=42,shuffle=False)\n",
    "    mlp.fit(X_train, y_train)\n",
    "    y_pred = mlp.predict(X_test)\n",
    "    print(classification_report(y_test, y_pred))"
   ]
  },
  {
   "cell_type": "code",
   "execution_count": 4,
   "metadata": {},
   "outputs": [],
   "source": [
    "import torch\n",
    "import torch.nn as nn\n",
    "import torch.optim as optim\n",
    "X_tensor = torch.FloatTensor(X)\n",
    "y_tensor = torch.FloatTensor(y).view(-1, 1)\n",
    "class first_NN(nn.Module):\n",
    "    def __init__(self):\n",
    "        super(first_NN, self).__init__()\n",
    "        self.hidden1 = nn.Linear(4, 5)   \n",
    "        self.output = nn.Linear(5, 1)     \n",
    "\n",
    "    def forward(self, x):\n",
    "        x = torch.relu(self.hidden1(x))\n",
    "        x = self.output(x)\n",
    "        return x\n",
    "def Network(X,y,learning_rate,epochs):#手动更新\n",
    "    model = first_NN()\n",
    "    criterion = nn.MSELoss()\n",
    "\n",
    "    for epoch in range(epochs):\n",
    "        model.train()\n",
    "        outputs = model(X) \n",
    "        loss = criterion(outputs, y)\n",
    "        if epoch % 100 == 0:\n",
    "            print(\"第{}次训练损失为{}\".format(epoch,loss))  \n",
    "        model.zero_grad() \n",
    "        loss.backward() \n",
    "        with torch.no_grad():  \n",
    "            for param in model.parameters():\n",
    "                param -= learning_rate * param.grad \n",
    "    print(\"最终损失为\", loss.item())\n",
    "\n",
    "def auto_Network(X,y,lrs,epochs):#自动更新\n",
    "    model=first_NN()\n",
    "    loss_fuction=nn.MSELoss()\n",
    "    optimizer = optim.SGD(model.parameters(), lr=lrs)\n",
    "    for epoch in range(epochs):\n",
    "        model.train()\n",
    "        optimizer.zero_grad()\n",
    "        outputs=model(X)\n",
    "        loss=loss_fuction(outputs,y)\n",
    "        if epoch % 100 == 0:\n",
    "            print(\"第{}次训练损失为{}\".format(epoch,loss))  \n",
    "        loss.backward()\n",
    "        optimizer.step()\n",
    "    print(\"最终损失为\", loss.item())\n",
    "        \n",
    "\n"
   ]
  },
  {
   "cell_type": "markdown",
   "metadata": {},
   "source": [
    "## 运行结果\n"
   ]
  },
  {
   "cell_type": "code",
   "execution_count": 5,
   "metadata": {},
   "outputs": [
    {
     "name": "stdout",
     "output_type": "stream",
     "text": [
      "              precision    recall  f1-score   support\n",
      "\n",
      "         0.0       0.67      1.00      0.80        12\n",
      "         1.0       0.00      0.00      0.00         6\n",
      "\n",
      "    accuracy                           0.67        18\n",
      "   macro avg       0.33      0.50      0.40        18\n",
      "weighted avg       0.44      0.67      0.53        18\n",
      "\n"
     ]
    },
    {
     "name": "stderr",
     "output_type": "stream",
     "text": [
      "d:\\tools\\miniforge\\envs\\pytorch\\lib\\site-packages\\sklearn\\neural_network\\_multilayer_perceptron.py:690: ConvergenceWarning: Stochastic Optimizer: Maximum iterations (1000) reached and the optimization hasn't converged yet.\n",
      "  warnings.warn(\n",
      "d:\\tools\\miniforge\\envs\\pytorch\\lib\\site-packages\\sklearn\\metrics\\_classification.py:1531: UndefinedMetricWarning: Precision is ill-defined and being set to 0.0 in labels with no predicted samples. Use `zero_division` parameter to control this behavior.\n",
      "  _warn_prf(average, modifier, f\"{metric.capitalize()} is\", len(result))\n",
      "d:\\tools\\miniforge\\envs\\pytorch\\lib\\site-packages\\sklearn\\metrics\\_classification.py:1531: UndefinedMetricWarning: Precision is ill-defined and being set to 0.0 in labels with no predicted samples. Use `zero_division` parameter to control this behavior.\n",
      "  _warn_prf(average, modifier, f\"{metric.capitalize()} is\", len(result))\n",
      "d:\\tools\\miniforge\\envs\\pytorch\\lib\\site-packages\\sklearn\\metrics\\_classification.py:1531: UndefinedMetricWarning: Precision is ill-defined and being set to 0.0 in labels with no predicted samples. Use `zero_division` parameter to control this behavior.\n",
      "  _warn_prf(average, modifier, f\"{metric.capitalize()} is\", len(result))\n"
     ]
    }
   ],
   "source": [
    "MLP_regressor(X,y)"
   ]
  },
  {
   "cell_type": "code",
   "execution_count": 6,
   "metadata": {},
   "outputs": [
    {
     "name": "stdout",
     "output_type": "stream",
     "text": [
      "第0次训练损失为0.5978603363037109\n",
      "第100次训练损失为0.2687149941921234\n",
      "第200次训练损失为0.2527337968349457\n",
      "第300次训练损失为0.2456016093492508\n",
      "第400次训练损失为0.23565198481082916\n",
      "第500次训练损失为0.21727043390274048\n",
      "第600次训练损失为0.18414020538330078\n",
      "第700次训练损失为0.1268232762813568\n",
      "第800次训练损失为0.046024397015571594\n",
      "第900次训练损失为0.013048301450908184\n",
      "最终损失为 0.011230399832129478\n"
     ]
    }
   ],
   "source": [
    "Network(X_tensor,y_tensor,0.01,1000)"
   ]
  },
  {
   "cell_type": "code",
   "execution_count": 7,
   "metadata": {},
   "outputs": [
    {
     "name": "stdout",
     "output_type": "stream",
     "text": [
      "第0次训练损失为0.3093295097351074\n",
      "第100次训练损失为0.0647267997264862\n",
      "第200次训练损失为0.01928802765905857\n",
      "第300次训练损失为0.012826095335185528\n",
      "第400次训练损失为0.011867528781294823\n",
      "第500次训练损失为0.011560841463506222\n",
      "第600次训练损失为0.01133897714316845\n",
      "第700次训练损失为0.011140769347548485\n",
      "第800次训练损失为0.010957338847219944\n",
      "第900次训练损失为0.010786240920424461\n",
      "最终损失为 0.010627596639096737\n"
     ]
    }
   ],
   "source": [
    "auto_Network(X_tensor,y_tensor,0.01,1000)"
   ]
  },
  {
   "cell_type": "markdown",
   "metadata": {},
   "source": [
    "## 实验总结"
   ]
  },
  {
   "cell_type": "markdown",
   "metadata": {},
   "source": [
    "\n",
    "\n",
    "\n",
    "\n",
    "#### 实验结果\n",
    "- 在回归任务中，通过调整神经网络的结构和超参数，能够有效降低模型的损失，得到较好的预测效果。\n",
    "- 在分类任务中，神经网络表现出优于传统逻辑回归的方法，尤其是在复杂数据集上。\n",
    "- 使用torch.optim模块简化了模型训练过程，并提供了更好的可读性和维护性。\n",
    "\n",
    "#### 体会与反思\n",
    "- 模型选择：不同的神经网络结构和参数对模型性能有显著影响，合理选择隐含层和节点数是关键，但是对于我们这次二分类问题并不是那么明显。\n",
    "- 损失函数：选择适合的损失函数（如MSE和交叉熵）对模型训练效果至关重要。\n",
    "- 调试与优化：在使用PyTorch时，掌握梯度计算与更新机制是理解深度学习的重要基础。\n",
    "- 对于代码的理解: 知道了为什么要进行梯度清零，是未来防止上一次迭代的梯度对该次迭代造成影响，所以必须在反向传播之前进行梯度清零；为什么要no_grad，一般是在检验时提高效率。\n",
    "\n",
    "\n",
    "\n",
    "通过本次实验，加深了对神经网络原理及其实现的理解，以及我自己的构建简单神经网络模型的能力为进一步的学习与研究打下了基础。"
   ]
  }
 ],
 "metadata": {
  "kernelspec": {
   "display_name": "pytorch",
   "language": "python",
   "name": "python3"
  },
  "language_info": {
   "codemirror_mode": {
    "name": "ipython",
    "version": 3
   },
   "file_extension": ".py",
   "mimetype": "text/x-python",
   "name": "python",
   "nbconvert_exporter": "python",
   "pygments_lexer": "ipython3",
   "version": "3.9.20"
  }
 },
 "nbformat": 4,
 "nbformat_minor": 2
}
